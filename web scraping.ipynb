{
 "cells": [
  {
   "cell_type": "code",
   "execution_count": 35,
   "id": "94dafde5-71a9-48da-adca-ac268210ee23",
   "metadata": {},
   "outputs": [
    {
     "name": "stdout",
     "output_type": "stream",
     "text": [
      "Requirement already satisfied: autoscraper in c:\\users\\gowth\\appdata\\local\\programs\\python\\python311\\lib\\site-packages (1.1.14)\n",
      "Requirement already satisfied: requests in c:\\users\\gowth\\appdata\\local\\programs\\python\\python311\\lib\\site-packages (from autoscraper) (2.31.0)\n",
      "Requirement already satisfied: bs4 in c:\\users\\gowth\\appdata\\local\\programs\\python\\python311\\lib\\site-packages (from autoscraper) (0.0.1)\n",
      "Requirement already satisfied: lxml in c:\\users\\gowth\\appdata\\local\\programs\\python\\python311\\lib\\site-packages (from autoscraper) (4.9.3)\n",
      "Requirement already satisfied: beautifulsoup4 in c:\\users\\gowth\\appdata\\local\\programs\\python\\python311\\lib\\site-packages (from bs4->autoscraper) (4.12.2)\n",
      "Requirement already satisfied: charset-normalizer<4,>=2 in c:\\users\\gowth\\appdata\\local\\programs\\python\\python311\\lib\\site-packages (from requests->autoscraper) (3.2.0)\n",
      "Requirement already satisfied: idna<4,>=2.5 in c:\\users\\gowth\\appdata\\local\\programs\\python\\python311\\lib\\site-packages (from requests->autoscraper) (3.4)\n",
      "Requirement already satisfied: urllib3<3,>=1.21.1 in c:\\users\\gowth\\appdata\\local\\programs\\python\\python311\\lib\\site-packages (from requests->autoscraper) (2.0.4)\n",
      "Requirement already satisfied: certifi>=2017.4.17 in c:\\users\\gowth\\appdata\\local\\programs\\python\\python311\\lib\\site-packages (from requests->autoscraper) (2023.7.22)\n",
      "Requirement already satisfied: soupsieve>1.2 in c:\\users\\gowth\\appdata\\local\\programs\\python\\python311\\lib\\site-packages (from beautifulsoup4->bs4->autoscraper) (2.4.1)\n"
     ]
    }
   ],
   "source": [
    "!pip install autoscraper"
   ]
  },
  {
   "cell_type": "code",
   "execution_count": 37,
   "id": "b66b5c36-3d97-40de-b640-3ec49a237481",
   "metadata": {},
   "outputs": [],
   "source": [
    "from autoscraper import AutoScraper\n",
    "flipkart_url=\"https://www.flipkart.com/search?q=iphones\"\n",
    "wanter_list=[\"APPLE iPhone 14 (Blue, 128 GB)\",\"₹56,999\"]"
   ]
  },
  {
   "cell_type": "code",
   "execution_count": 48,
   "id": "9061eaa9-a354-4d9d-b753-46cdb82cf9d6",
   "metadata": {},
   "outputs": [],
   "source": [
    "scrap=AutoScraper()\n",
    "result=scrap.build(flipkart_url,wanter_list)"
   ]
  },
  {
   "cell_type": "code",
   "execution_count": 49,
   "id": "5544746f-3192-4efc-be9f-cfe98b446d59",
   "metadata": {},
   "outputs": [
    {
     "name": "stdout",
     "output_type": "stream",
     "text": [
      "['APPLE iPhone 14 (Blue, 128 GB)', 'APPLE iPhone 14 (Starlight, 128 GB)', 'APPLE iPhone 14 (Midnight, 128 GB)', 'APPLE iPhone 14 (Purple, 128 GB)', 'APPLE iPhone 14 Plus (Blue, 128 GB)', 'APPLE iPhone 14 Plus (Starlight, 128 GB)', 'APPLE iPhone 14 Plus (Midnight, 128 GB)', 'APPLE iPhone 14 Plus (Purple, 128 GB)', 'APPLE iPhone 12 (Blue, 64 GB)', 'APPLE iPhone 12 (White, 64 GB)', 'APPLE iPhone 12 (Black, 64 GB)', 'APPLE iPhone 13 (Blue, 128 GB)', 'APPLE iPhone 14 (Blue, 256 GB)', 'APPLE iPhone 14 Plus (Blue, 256 GB)', 'APPLE iPhone 12 (Black, 128 GB)', 'APPLE iPhone 12 (Green, 64 GB)', 'APPLE iPhone 14 ((PRODUCT)RED, 128 GB)', 'APPLE iPhone 14 (Starlight, 256 GB)', 'APPLE iPhone 14 (Purple, 256 GB)', 'APPLE iPhone 12 (Blue, 128 GB)', 'APPLE iPhone 14 Plus (Midnight, 256 GB)', 'APPLE iPhone 14 (Midnight, 256 GB)', 'APPLE iPhone 14 Plus ((PRODUCT)RED, 128 GB)', 'APPLE iPhone 14 Plus (Purple, 256 GB)', '₹56,999', '₹65,999', '₹41,999', '₹51,999', '₹66,999', '₹75,999', '₹45,999']\n"
     ]
    }
   ],
   "source": [
    "print(result)"
   ]
  },
  {
   "cell_type": "code",
   "execution_count": 55,
   "id": "e9c9aada-c2e7-488b-a70e-9f31199a95f6",
   "metadata": {},
   "outputs": [
    {
     "data": {
      "text/plain": [
       "{'rule_cpjj': ['APPLE iPhone 14 (Blue, 128 GB)',\n",
       "  'APPLE iPhone 14 (Starlight, 128 GB)',\n",
       "  'APPLE iPhone 14 (Midnight, 128 GB)',\n",
       "  'APPLE iPhone 14 (Purple, 128 GB)',\n",
       "  'APPLE iPhone 14 Plus (Blue, 128 GB)',\n",
       "  'APPLE iPhone 14 Plus (Starlight, 128 GB)',\n",
       "  'APPLE iPhone 14 Plus (Midnight, 128 GB)',\n",
       "  'APPLE iPhone 14 Plus (Purple, 128 GB)',\n",
       "  'APPLE iPhone 12 (Blue, 64 GB)',\n",
       "  'APPLE iPhone 12 (White, 64 GB)',\n",
       "  'APPLE iPhone 12 (Black, 64 GB)',\n",
       "  'APPLE iPhone 13 (Blue, 128 GB)',\n",
       "  'APPLE iPhone 14 (Blue, 256 GB)',\n",
       "  'APPLE iPhone 14 Plus (Blue, 256 GB)',\n",
       "  'APPLE iPhone 12 (Black, 128 GB)',\n",
       "  'APPLE iPhone 12 (Green, 64 GB)',\n",
       "  'APPLE iPhone 14 ((PRODUCT)RED, 128 GB)',\n",
       "  'APPLE iPhone 14 (Starlight, 256 GB)',\n",
       "  'APPLE iPhone 14 (Purple, 256 GB)',\n",
       "  'APPLE iPhone 12 (Blue, 128 GB)',\n",
       "  'APPLE iPhone 14 Plus (Midnight, 256 GB)',\n",
       "  'APPLE iPhone 14 (Midnight, 256 GB)',\n",
       "  'APPLE iPhone 14 Plus ((PRODUCT)RED, 128 GB)',\n",
       "  'APPLE iPhone 14 Plus (Purple, 256 GB)'],\n",
       " 'rule_m4kx': ['APPLE iPhone 14 (Blue, 128 GB)',\n",
       "  'APPLE iPhone 14 (Starlight, 128 GB)',\n",
       "  'APPLE iPhone 14 (Midnight, 128 GB)',\n",
       "  'APPLE iPhone 14 (Purple, 128 GB)',\n",
       "  'APPLE iPhone 14 Plus (Blue, 128 GB)',\n",
       "  'APPLE iPhone 14 Plus (Starlight, 128 GB)',\n",
       "  'APPLE iPhone 14 Plus (Midnight, 128 GB)',\n",
       "  'APPLE iPhone 14 Plus (Purple, 128 GB)',\n",
       "  'APPLE iPhone 12 (Blue, 64 GB)',\n",
       "  'APPLE iPhone 12 (White, 64 GB)',\n",
       "  'APPLE iPhone 12 (Black, 64 GB)',\n",
       "  'APPLE iPhone 13 (Blue, 128 GB)',\n",
       "  'APPLE iPhone 14 (Blue, 256 GB)',\n",
       "  'APPLE iPhone 14 Plus (Blue, 256 GB)',\n",
       "  'APPLE iPhone 12 (Black, 128 GB)',\n",
       "  'APPLE iPhone 12 (Green, 64 GB)',\n",
       "  'APPLE iPhone 14 ((PRODUCT)RED, 128 GB)',\n",
       "  'APPLE iPhone 14 (Starlight, 256 GB)',\n",
       "  'APPLE iPhone 14 (Purple, 256 GB)',\n",
       "  'APPLE iPhone 12 (Blue, 128 GB)',\n",
       "  'APPLE iPhone 14 Plus (Midnight, 256 GB)',\n",
       "  'APPLE iPhone 14 (Midnight, 256 GB)',\n",
       "  'APPLE iPhone 14 Plus ((PRODUCT)RED, 128 GB)',\n",
       "  'APPLE iPhone 14 Plus (Purple, 256 GB)'],\n",
       " 'rule_jyme': ['₹56,999',\n",
       "  '₹56,999',\n",
       "  '₹56,999',\n",
       "  '₹56,999',\n",
       "  '₹65,999',\n",
       "  '₹65,999',\n",
       "  '₹65,999',\n",
       "  '₹65,999',\n",
       "  '₹41,999',\n",
       "  '₹41,999',\n",
       "  '₹41,999',\n",
       "  '₹51,999',\n",
       "  '₹66,999',\n",
       "  '₹75,999',\n",
       "  '₹45,999',\n",
       "  '₹41,999',\n",
       "  '₹56,999',\n",
       "  '₹66,999',\n",
       "  '₹66,999',\n",
       "  '₹45,999',\n",
       "  '₹75,999',\n",
       "  '₹66,999',\n",
       "  '₹65,999',\n",
       "  '₹75,999'],\n",
       " 'rule_ian8': ['₹56,999',\n",
       "  '₹56,999',\n",
       "  '₹56,999',\n",
       "  '₹56,999',\n",
       "  '₹65,999',\n",
       "  '₹65,999',\n",
       "  '₹65,999',\n",
       "  '₹65,999',\n",
       "  '₹41,999',\n",
       "  '₹41,999',\n",
       "  '₹41,999',\n",
       "  '₹51,999',\n",
       "  '₹66,999',\n",
       "  '₹75,999',\n",
       "  '₹45,999',\n",
       "  '₹41,999',\n",
       "  '₹56,999',\n",
       "  '₹66,999',\n",
       "  '₹66,999',\n",
       "  '₹45,999',\n",
       "  '₹75,999',\n",
       "  '₹66,999',\n",
       "  '₹65,999',\n",
       "  '₹75,999'],\n",
       " 'rule_hc51': ['₹56,999',\n",
       "  '₹56,999',\n",
       "  '₹56,999',\n",
       "  '₹56,999',\n",
       "  '₹65,999',\n",
       "  '₹65,999',\n",
       "  '₹65,999',\n",
       "  '₹65,999',\n",
       "  '₹41,999',\n",
       "  '₹41,999',\n",
       "  '₹41,999',\n",
       "  '₹51,999',\n",
       "  '₹66,999',\n",
       "  '₹75,999',\n",
       "  '₹45,999',\n",
       "  '₹41,999',\n",
       "  '₹56,999',\n",
       "  '₹66,999',\n",
       "  '₹66,999',\n",
       "  '₹45,999',\n",
       "  '₹75,999',\n",
       "  '₹66,999',\n",
       "  '₹65,999',\n",
       "  '₹75,999'],\n",
       " 'rule_650y': ['₹56,999',\n",
       "  '₹56,999',\n",
       "  '₹56,999',\n",
       "  '₹56,999',\n",
       "  '₹65,999',\n",
       "  '₹65,999',\n",
       "  '₹65,999',\n",
       "  '₹65,999',\n",
       "  '₹41,999',\n",
       "  '₹41,999',\n",
       "  '₹41,999',\n",
       "  '₹51,999',\n",
       "  '₹66,999',\n",
       "  '₹75,999',\n",
       "  '₹45,999',\n",
       "  '₹41,999',\n",
       "  '₹56,999',\n",
       "  '₹66,999',\n",
       "  '₹66,999',\n",
       "  '₹45,999',\n",
       "  '₹75,999',\n",
       "  '₹66,999',\n",
       "  '₹65,999',\n",
       "  '₹75,999'],\n",
       " 'rule_40yf': ['₹56,999',\n",
       "  '₹56,999',\n",
       "  '₹56,999',\n",
       "  '₹56,999',\n",
       "  '₹65,999',\n",
       "  '₹65,999',\n",
       "  '₹65,999',\n",
       "  '₹65,999',\n",
       "  '₹41,999',\n",
       "  '₹41,999',\n",
       "  '₹41,999',\n",
       "  '₹51,999',\n",
       "  '₹66,999',\n",
       "  '₹75,999',\n",
       "  '₹45,999',\n",
       "  '₹41,999',\n",
       "  '₹56,999',\n",
       "  '₹66,999',\n",
       "  '₹66,999',\n",
       "  '₹45,999',\n",
       "  '₹75,999',\n",
       "  '₹66,999',\n",
       "  '₹65,999',\n",
       "  '₹75,999']}"
      ]
     },
     "execution_count": 55,
     "metadata": {},
     "output_type": "execute_result"
    }
   ],
   "source": [
    "scrap.get_result_similar(flipkart_url,grouped=True)"
   ]
  },
  {
   "cell_type": "code",
   "execution_count": 56,
   "id": "9bf65ccc-5741-4b0e-88c2-8d399c79bb16",
   "metadata": {},
   "outputs": [],
   "source": [
    "scrap.set_rule_aliases({'rule_cpjj':'Title','rule_jyme':'Price'})\n",
    "scrap.keep_rules(['rule_cpjj','rule_jyme'])\n",
    "scrap.save('flipkart-search')\n"
   ]
  },
  {
   "cell_type": "code",
   "execution_count": 57,
   "id": "fd940c7a-edfc-40da-8b09-fed1a6cd66dd",
   "metadata": {},
   "outputs": [],
   "source": [
    "result=scrap.get_result_similar('https://www.flipkart.com/search?q=laptop',group_by_alias=True)"
   ]
  },
  {
   "cell_type": "code",
   "execution_count": 68,
   "id": "e876a976-9d37-41c6-8a8a-4601b0054e09",
   "metadata": {},
   "outputs": [
    {
     "data": {
      "text/plain": [
       "['ASUS Chromebook Celeron Dual Core N4020 - (4 GB/32 GB EMMC Storage/Chrome OS) CX1101CMA_ID-GJ0004 / GJ...',\n",
       " 'Primebook Wifi MT8183 - (4 GB/64 GB EMMC Storage/Prime OS) PB Wifi Thin and Light Laptop',\n",
       " 'HP (2023) Intel Core i3 12th Gen 1215U - (8 GB/512 GB SSD/Windows 11 Home) 15s-fy5003TU Thin and Light...',\n",
       " 'Lenovo IdeaPad Slim 3 Intel Core i5 11th Gen 1135G7 - (16 GB/512 GB SSD/Windows 11 Home) 15ITL6 Thin a...',\n",
       " 'HP Intel Core i3 11th Gen 1115G4 - (8 GB/512 GB SSD/Windows 11 Home) 14s - dy2508TU Thin and Light Lap...',\n",
       " 'HP Ryzen 5 Hexa Core 5500U - (16 GB/512 GB SSD/Windows 11 Home) 15s- eq2182AU Thin and Light Laptop',\n",
       " 'APPLE 2022 MacBook AIR M2 - (8 GB/256 GB SSD/Mac OS Monterey) MLY33HN/A',\n",
       " 'Wings Nuvobook S1 Aluminium Alloy Metal Body Intel Core i3 11th Gen 1125G4 - (8 GB/256 GB SSD/Windows ...',\n",
       " 'ASUS Vivobook 15 Core i5 11th Gen 1135G7 - (8 GB/512 GB SSD/Windows 11 Home) X515EA-EJ522WS Thin and L...',\n",
       " 'Infinix INBook Y1 Plus Intel Core i3 10th Gen 1005G1 - (8 GB/512 GB SSD/Windows 11 Home) XL28 Thin and...',\n",
       " 'ASUS Vivobook S14 OLED Intel EVO H-Series Core i5 12th Gen 12500H - (16 GB/512 GB SSD/Windows 11 Home)...',\n",
       " 'Primebook S Wifi MT8183 - (4 GB/128 GB EMMC Storage/Prime OS) PB S Wifi Thin and Light Laptop',\n",
       " 'SAMSUNG Galaxy Book2 Pro Intel EVO Core i5 12th Gen 1240P - (16 GB/512 GB SSD/Windows 11 Home) NP930XE...',\n",
       " 'Lenovo Ideapad Gaming 3 AMD Ryzen 5 Hexa Core 5600H - (8 GB/512 GB SSD/Windows 11 Home/4 GB Graphics/N...',\n",
       " 'HP 2023 Athlon Dual Core 3050U - (8 GB/512 GB SSD/Windows 11 Home) 15s-ey1509AU Thin and Light Laptop',\n",
       " 'HP Intel Core i3 12th Gen 1215U - (8 GB/512 GB SSD/Windows 11 Home) 15s-fq5007TU Thin and Light Laptop',\n",
       " 'HP 360 Intel Celeron Quad Core N4020 - (4 GB/64 GB EMMC Storage/Chrome OS) 14a-ca0504TU Chromebook',\n",
       " 'ASUS Vivobook 15 Core i3 11th Gen 1115G4 - (8 GB/256 GB SSD/Windows 11 Home) X1500EA-EJ311W Thin and L...',\n",
       " 'HP Laptop Core i3 11th Gen 1115G4 - (8 GB/512 GB SSD/Windows 11 Home) 15s-fq2717TU Thin and Light Lapt...',\n",
       " 'HP (2023) Intel Core i5 11th Gen 1155G7 - (16 GB/512 GB SSD/Windows 11 Home) 15s-fr4001TU Thin and Lig...',\n",
       " 'ASUS Chromebook Celeron Dual Core N4020 - (4 GB/64 GB EMMC Storage/Chrome OS) CX1101CMA_ID-GJ0002 / GJ...',\n",
       " 'ASUS Vivobook 15 Core i3 11th Gen 1115G4 - (8 GB/256 GB SSD/Windows 11 Home) X515EA-EJ312W Thin and Li...',\n",
       " 'Lenovo IdeaPad Slim 3 Core i5 11th Gen 1135G7 - (8 GB/512 GB SSD/Windows 11 Home) 15ITL6 Thin and Ligh...',\n",
       " 'APPLE 2022 MacBook AIR M2 - (8 GB/256 GB SSD/Mac OS Monterey) MLY13HN/A']"
      ]
     },
     "execution_count": 68,
     "metadata": {},
     "output_type": "execute_result"
    }
   ],
   "source": [
    "result['Title']"
   ]
  },
  {
   "cell_type": "code",
   "execution_count": 65,
   "id": "f3bf3e87-2f95-4382-acee-565b9ad446f6",
   "metadata": {},
   "outputs": [
    {
     "data": {
      "text/plain": [
       "['₹10,990',\n",
       " '₹8,990',\n",
       " '₹37,990',\n",
       " '₹40,990',\n",
       " '₹34,990',\n",
       " '₹49,990',\n",
       " '₹91,990',\n",
       " '₹24,990',\n",
       " '₹37,990',\n",
       " '₹23,990',\n",
       " '₹69,990',\n",
       " '₹10,990',\n",
       " '₹69,990',\n",
       " '₹43,990',\n",
       " '₹27,990',\n",
       " '₹38,990',\n",
       " '₹16,990',\n",
       " '₹29,990',\n",
       " '₹35,990',\n",
       " '₹51,990',\n",
       " '₹12,990',\n",
       " '₹30,990',\n",
       " '₹37,990',\n",
       " '₹89,990']"
      ]
     },
     "execution_count": 65,
     "metadata": {},
     "output_type": "execute_result"
    }
   ],
   "source": [
    "result['Price']"
   ]
  },
  {
   "cell_type": "code",
   "execution_count": null,
   "id": "698414de-314c-47c7-99ee-55fa88fd5731",
   "metadata": {},
   "outputs": [],
   "source": []
  },
  {
   "cell_type": "code",
   "execution_count": null,
   "id": "3a3fc73c-4b63-4db1-b13b-b77f159f12c6",
   "metadata": {},
   "outputs": [],
   "source": []
  }
 ],
 "metadata": {
  "kernelspec": {
   "display_name": "Python 3 (ipykernel)",
   "language": "python",
   "name": "python3"
  },
  "language_info": {
   "codemirror_mode": {
    "name": "ipython",
    "version": 3
   },
   "file_extension": ".py",
   "mimetype": "text/x-python",
   "name": "python",
   "nbconvert_exporter": "python",
   "pygments_lexer": "ipython3",
   "version": "3.11.4"
  }
 },
 "nbformat": 4,
 "nbformat_minor": 5
}
